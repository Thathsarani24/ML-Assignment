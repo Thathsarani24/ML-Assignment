{
 "cells": [
  {
   "cell_type": "markdown",
   "id": "1af6182e",
   "metadata": {},
   "source": [
    "AS2019553"
   ]
  },
  {
   "cell_type": "markdown",
   "id": "c28dd1d6",
   "metadata": {},
   "source": [
    "K-Nearest Neighbour algorithm model"
   ]
  },
  {
   "cell_type": "code",
   "execution_count": 756,
   "id": "aa3f3701",
   "metadata": {},
   "outputs": [],
   "source": [
    "#Importing packages\n",
    "import pandas as pd\n",
    "import numpy as np\n",
    "from sklearn import preprocessing\n",
    "from sklearn.model_selection import train_test_split\n",
    "from sklearn import metrics\n",
    "from sklearn.model_selection import GridSearchCV\n",
    "from sklearn.neighbors import KNeighborsClassifier  \n",
    "from sklearn.metrics import classification_report, confusion_matrix, accuracy_score "
   ]
  },
  {
   "cell_type": "code",
   "execution_count": 704,
   "id": "47e7b908",
   "metadata": {},
   "outputs": [],
   "source": [
    "#read csv file\n",
    "dataset = pd.read_csv('Mobile_Dataset.csv')"
   ]
  },
  {
   "cell_type": "code",
   "execution_count": 705,
   "id": "5bf87eaf",
   "metadata": {},
   "outputs": [
    {
     "data": {
      "text/html": [
       "<div>\n",
       "<style scoped>\n",
       "    .dataframe tbody tr th:only-of-type {\n",
       "        vertical-align: middle;\n",
       "    }\n",
       "\n",
       "    .dataframe tbody tr th {\n",
       "        vertical-align: top;\n",
       "    }\n",
       "\n",
       "    .dataframe thead th {\n",
       "        text-align: right;\n",
       "    }\n",
       "</style>\n",
       "<table border=\"1\" class=\"dataframe\">\n",
       "  <thead>\n",
       "    <tr style=\"text-align: right;\">\n",
       "      <th></th>\n",
       "      <th>battery_power</th>\n",
       "      <th>blue</th>\n",
       "      <th>clock_speed</th>\n",
       "      <th>dual_sim</th>\n",
       "      <th>fc</th>\n",
       "      <th>four_g</th>\n",
       "      <th>int_memory</th>\n",
       "      <th>m_dep</th>\n",
       "      <th>mobile_wt</th>\n",
       "      <th>n_cores</th>\n",
       "      <th>...</th>\n",
       "      <th>px_height</th>\n",
       "      <th>px_width</th>\n",
       "      <th>ram</th>\n",
       "      <th>sc_h</th>\n",
       "      <th>sc_w</th>\n",
       "      <th>talk_time</th>\n",
       "      <th>three_g</th>\n",
       "      <th>touch_screen</th>\n",
       "      <th>wifi</th>\n",
       "      <th>price_range</th>\n",
       "    </tr>\n",
       "  </thead>\n",
       "  <tbody>\n",
       "    <tr>\n",
       "      <th>0</th>\n",
       "      <td>842</td>\n",
       "      <td>0</td>\n",
       "      <td>2.2</td>\n",
       "      <td>0</td>\n",
       "      <td>1</td>\n",
       "      <td>0</td>\n",
       "      <td>7</td>\n",
       "      <td>0.6</td>\n",
       "      <td>188</td>\n",
       "      <td>2</td>\n",
       "      <td>...</td>\n",
       "      <td>20</td>\n",
       "      <td>756</td>\n",
       "      <td>2549</td>\n",
       "      <td>9</td>\n",
       "      <td>7</td>\n",
       "      <td>19</td>\n",
       "      <td>0</td>\n",
       "      <td>0</td>\n",
       "      <td>1</td>\n",
       "      <td>1</td>\n",
       "    </tr>\n",
       "    <tr>\n",
       "      <th>1</th>\n",
       "      <td>1021</td>\n",
       "      <td>1</td>\n",
       "      <td>0.5</td>\n",
       "      <td>1</td>\n",
       "      <td>0</td>\n",
       "      <td>1</td>\n",
       "      <td>53</td>\n",
       "      <td>0.7</td>\n",
       "      <td>136</td>\n",
       "      <td>3</td>\n",
       "      <td>...</td>\n",
       "      <td>905</td>\n",
       "      <td>1988</td>\n",
       "      <td>2631</td>\n",
       "      <td>17</td>\n",
       "      <td>3</td>\n",
       "      <td>7</td>\n",
       "      <td>1</td>\n",
       "      <td>1</td>\n",
       "      <td>0</td>\n",
       "      <td>2</td>\n",
       "    </tr>\n",
       "    <tr>\n",
       "      <th>2</th>\n",
       "      <td>563</td>\n",
       "      <td>1</td>\n",
       "      <td>0.5</td>\n",
       "      <td>1</td>\n",
       "      <td>2</td>\n",
       "      <td>1</td>\n",
       "      <td>41</td>\n",
       "      <td>0.9</td>\n",
       "      <td>145</td>\n",
       "      <td>5</td>\n",
       "      <td>...</td>\n",
       "      <td>1263</td>\n",
       "      <td>1716</td>\n",
       "      <td>2603</td>\n",
       "      <td>11</td>\n",
       "      <td>2</td>\n",
       "      <td>9</td>\n",
       "      <td>1</td>\n",
       "      <td>1</td>\n",
       "      <td>0</td>\n",
       "      <td>2</td>\n",
       "    </tr>\n",
       "    <tr>\n",
       "      <th>3</th>\n",
       "      <td>615</td>\n",
       "      <td>1</td>\n",
       "      <td>2.5</td>\n",
       "      <td>0</td>\n",
       "      <td>0</td>\n",
       "      <td>0</td>\n",
       "      <td>10</td>\n",
       "      <td>0.8</td>\n",
       "      <td>131</td>\n",
       "      <td>6</td>\n",
       "      <td>...</td>\n",
       "      <td>1216</td>\n",
       "      <td>1786</td>\n",
       "      <td>2769</td>\n",
       "      <td>16</td>\n",
       "      <td>8</td>\n",
       "      <td>11</td>\n",
       "      <td>1</td>\n",
       "      <td>0</td>\n",
       "      <td>0</td>\n",
       "      <td>2</td>\n",
       "    </tr>\n",
       "    <tr>\n",
       "      <th>4</th>\n",
       "      <td>1821</td>\n",
       "      <td>1</td>\n",
       "      <td>1.2</td>\n",
       "      <td>0</td>\n",
       "      <td>13</td>\n",
       "      <td>1</td>\n",
       "      <td>44</td>\n",
       "      <td>0.6</td>\n",
       "      <td>141</td>\n",
       "      <td>2</td>\n",
       "      <td>...</td>\n",
       "      <td>1208</td>\n",
       "      <td>1212</td>\n",
       "      <td>1411</td>\n",
       "      <td>8</td>\n",
       "      <td>2</td>\n",
       "      <td>15</td>\n",
       "      <td>1</td>\n",
       "      <td>1</td>\n",
       "      <td>0</td>\n",
       "      <td>1</td>\n",
       "    </tr>\n",
       "  </tbody>\n",
       "</table>\n",
       "<p>5 rows × 21 columns</p>\n",
       "</div>"
      ],
      "text/plain": [
       "   battery_power  blue  clock_speed  dual_sim  fc  four_g  int_memory  m_dep  \\\n",
       "0            842     0          2.2         0   1       0           7    0.6   \n",
       "1           1021     1          0.5         1   0       1          53    0.7   \n",
       "2            563     1          0.5         1   2       1          41    0.9   \n",
       "3            615     1          2.5         0   0       0          10    0.8   \n",
       "4           1821     1          1.2         0  13       1          44    0.6   \n",
       "\n",
       "   mobile_wt  n_cores  ...  px_height  px_width   ram  sc_h  sc_w  talk_time  \\\n",
       "0        188        2  ...         20       756  2549     9     7         19   \n",
       "1        136        3  ...        905      1988  2631    17     3          7   \n",
       "2        145        5  ...       1263      1716  2603    11     2          9   \n",
       "3        131        6  ...       1216      1786  2769    16     8         11   \n",
       "4        141        2  ...       1208      1212  1411     8     2         15   \n",
       "\n",
       "   three_g  touch_screen  wifi  price_range  \n",
       "0        0             0     1            1  \n",
       "1        1             1     0            2  \n",
       "2        1             1     0            2  \n",
       "3        1             0     0            2  \n",
       "4        1             1     0            1  \n",
       "\n",
       "[5 rows x 21 columns]"
      ]
     },
     "execution_count": 705,
     "metadata": {},
     "output_type": "execute_result"
    }
   ],
   "source": [
    "dataset.head()"
   ]
  },
  {
   "cell_type": "code",
   "execution_count": 706,
   "id": "484127df",
   "metadata": {},
   "outputs": [
    {
     "data": {
      "text/plain": [
       "Index(['battery_power', 'blue', 'clock_speed', 'dual_sim', 'fc', 'four_g',\n",
       "       'int_memory', 'm_dep', 'mobile_wt', 'n_cores', 'pc', 'px_height',\n",
       "       'px_width', 'ram', 'sc_h', 'sc_w', 'talk_time', 'three_g',\n",
       "       'touch_screen', 'wifi', 'price_range'],\n",
       "      dtype='object')"
      ]
     },
     "execution_count": 706,
     "metadata": {},
     "output_type": "execute_result"
    }
   ],
   "source": [
    "dataset.columns"
   ]
  },
  {
   "cell_type": "code",
   "execution_count": 707,
   "id": "ddf05bfb",
   "metadata": {},
   "outputs": [
    {
     "data": {
      "text/plain": [
       "(2000, 21)"
      ]
     },
     "execution_count": 707,
     "metadata": {},
     "output_type": "execute_result"
    }
   ],
   "source": [
    "dataset.shape"
   ]
  },
  {
   "cell_type": "code",
   "execution_count": 708,
   "id": "622fb929",
   "metadata": {},
   "outputs": [
    {
     "data": {
      "text/plain": [
       "battery_power    0\n",
       "blue             0\n",
       "clock_speed      0\n",
       "dual_sim         0\n",
       "fc               0\n",
       "four_g           0\n",
       "int_memory       0\n",
       "m_dep            0\n",
       "mobile_wt        0\n",
       "n_cores          0\n",
       "pc               0\n",
       "px_height        0\n",
       "px_width         0\n",
       "ram              0\n",
       "sc_h             0\n",
       "sc_w             0\n",
       "talk_time        0\n",
       "three_g          0\n",
       "touch_screen     0\n",
       "wifi             0\n",
       "price_range      0\n",
       "dtype: int64"
      ]
     },
     "execution_count": 708,
     "metadata": {},
     "output_type": "execute_result"
    }
   ],
   "source": [
    "#Checking whether NULL values are in dataset\n",
    "pd.isnull(dataset).sum()"
   ]
  },
  {
   "cell_type": "code",
   "execution_count": 709,
   "id": "d10eab5e",
   "metadata": {},
   "outputs": [
    {
     "data": {
      "text/html": [
       "<div>\n",
       "<style scoped>\n",
       "    .dataframe tbody tr th:only-of-type {\n",
       "        vertical-align: middle;\n",
       "    }\n",
       "\n",
       "    .dataframe tbody tr th {\n",
       "        vertical-align: top;\n",
       "    }\n",
       "\n",
       "    .dataframe thead th {\n",
       "        text-align: right;\n",
       "    }\n",
       "</style>\n",
       "<table border=\"1\" class=\"dataframe\">\n",
       "  <thead>\n",
       "    <tr style=\"text-align: right;\">\n",
       "      <th></th>\n",
       "      <th>battery_power</th>\n",
       "      <th>blue</th>\n",
       "      <th>clock_speed</th>\n",
       "      <th>dual_sim</th>\n",
       "      <th>fc</th>\n",
       "      <th>four_g</th>\n",
       "      <th>int_memory</th>\n",
       "      <th>m_dep</th>\n",
       "      <th>mobile_wt</th>\n",
       "      <th>n_cores</th>\n",
       "      <th>...</th>\n",
       "      <th>px_height</th>\n",
       "      <th>px_width</th>\n",
       "      <th>ram</th>\n",
       "      <th>sc_h</th>\n",
       "      <th>sc_w</th>\n",
       "      <th>talk_time</th>\n",
       "      <th>three_g</th>\n",
       "      <th>touch_screen</th>\n",
       "      <th>wifi</th>\n",
       "      <th>price_range</th>\n",
       "    </tr>\n",
       "  </thead>\n",
       "  <tbody>\n",
       "    <tr>\n",
       "      <th>count</th>\n",
       "      <td>2000.000000</td>\n",
       "      <td>2000.0000</td>\n",
       "      <td>2000.000000</td>\n",
       "      <td>2000.000000</td>\n",
       "      <td>2000.000000</td>\n",
       "      <td>2000.000000</td>\n",
       "      <td>2000.000000</td>\n",
       "      <td>2000.000000</td>\n",
       "      <td>2000.000000</td>\n",
       "      <td>2000.000000</td>\n",
       "      <td>...</td>\n",
       "      <td>2000.000000</td>\n",
       "      <td>2000.000000</td>\n",
       "      <td>2000.000000</td>\n",
       "      <td>2000.000000</td>\n",
       "      <td>2000.000000</td>\n",
       "      <td>2000.000000</td>\n",
       "      <td>2000.000000</td>\n",
       "      <td>2000.000000</td>\n",
       "      <td>2000.000000</td>\n",
       "      <td>2000.000000</td>\n",
       "    </tr>\n",
       "    <tr>\n",
       "      <th>mean</th>\n",
       "      <td>1238.518500</td>\n",
       "      <td>0.4950</td>\n",
       "      <td>1.522250</td>\n",
       "      <td>0.509500</td>\n",
       "      <td>4.309500</td>\n",
       "      <td>0.521500</td>\n",
       "      <td>32.046500</td>\n",
       "      <td>0.501750</td>\n",
       "      <td>140.249000</td>\n",
       "      <td>4.520500</td>\n",
       "      <td>...</td>\n",
       "      <td>645.108000</td>\n",
       "      <td>1251.515500</td>\n",
       "      <td>2124.213000</td>\n",
       "      <td>12.306500</td>\n",
       "      <td>5.767000</td>\n",
       "      <td>11.011000</td>\n",
       "      <td>0.761500</td>\n",
       "      <td>0.503000</td>\n",
       "      <td>0.507000</td>\n",
       "      <td>1.500000</td>\n",
       "    </tr>\n",
       "    <tr>\n",
       "      <th>std</th>\n",
       "      <td>439.418206</td>\n",
       "      <td>0.5001</td>\n",
       "      <td>0.816004</td>\n",
       "      <td>0.500035</td>\n",
       "      <td>4.341444</td>\n",
       "      <td>0.499662</td>\n",
       "      <td>18.145715</td>\n",
       "      <td>0.288416</td>\n",
       "      <td>35.399655</td>\n",
       "      <td>2.287837</td>\n",
       "      <td>...</td>\n",
       "      <td>443.780811</td>\n",
       "      <td>432.199447</td>\n",
       "      <td>1084.732044</td>\n",
       "      <td>4.213245</td>\n",
       "      <td>4.356398</td>\n",
       "      <td>5.463955</td>\n",
       "      <td>0.426273</td>\n",
       "      <td>0.500116</td>\n",
       "      <td>0.500076</td>\n",
       "      <td>1.118314</td>\n",
       "    </tr>\n",
       "    <tr>\n",
       "      <th>min</th>\n",
       "      <td>501.000000</td>\n",
       "      <td>0.0000</td>\n",
       "      <td>0.500000</td>\n",
       "      <td>0.000000</td>\n",
       "      <td>0.000000</td>\n",
       "      <td>0.000000</td>\n",
       "      <td>2.000000</td>\n",
       "      <td>0.100000</td>\n",
       "      <td>80.000000</td>\n",
       "      <td>1.000000</td>\n",
       "      <td>...</td>\n",
       "      <td>0.000000</td>\n",
       "      <td>500.000000</td>\n",
       "      <td>256.000000</td>\n",
       "      <td>5.000000</td>\n",
       "      <td>0.000000</td>\n",
       "      <td>2.000000</td>\n",
       "      <td>0.000000</td>\n",
       "      <td>0.000000</td>\n",
       "      <td>0.000000</td>\n",
       "      <td>0.000000</td>\n",
       "    </tr>\n",
       "    <tr>\n",
       "      <th>25%</th>\n",
       "      <td>851.750000</td>\n",
       "      <td>0.0000</td>\n",
       "      <td>0.700000</td>\n",
       "      <td>0.000000</td>\n",
       "      <td>1.000000</td>\n",
       "      <td>0.000000</td>\n",
       "      <td>16.000000</td>\n",
       "      <td>0.200000</td>\n",
       "      <td>109.000000</td>\n",
       "      <td>3.000000</td>\n",
       "      <td>...</td>\n",
       "      <td>282.750000</td>\n",
       "      <td>874.750000</td>\n",
       "      <td>1207.500000</td>\n",
       "      <td>9.000000</td>\n",
       "      <td>2.000000</td>\n",
       "      <td>6.000000</td>\n",
       "      <td>1.000000</td>\n",
       "      <td>0.000000</td>\n",
       "      <td>0.000000</td>\n",
       "      <td>0.750000</td>\n",
       "    </tr>\n",
       "    <tr>\n",
       "      <th>50%</th>\n",
       "      <td>1226.000000</td>\n",
       "      <td>0.0000</td>\n",
       "      <td>1.500000</td>\n",
       "      <td>1.000000</td>\n",
       "      <td>3.000000</td>\n",
       "      <td>1.000000</td>\n",
       "      <td>32.000000</td>\n",
       "      <td>0.500000</td>\n",
       "      <td>141.000000</td>\n",
       "      <td>4.000000</td>\n",
       "      <td>...</td>\n",
       "      <td>564.000000</td>\n",
       "      <td>1247.000000</td>\n",
       "      <td>2146.500000</td>\n",
       "      <td>12.000000</td>\n",
       "      <td>5.000000</td>\n",
       "      <td>11.000000</td>\n",
       "      <td>1.000000</td>\n",
       "      <td>1.000000</td>\n",
       "      <td>1.000000</td>\n",
       "      <td>1.500000</td>\n",
       "    </tr>\n",
       "    <tr>\n",
       "      <th>75%</th>\n",
       "      <td>1615.250000</td>\n",
       "      <td>1.0000</td>\n",
       "      <td>2.200000</td>\n",
       "      <td>1.000000</td>\n",
       "      <td>7.000000</td>\n",
       "      <td>1.000000</td>\n",
       "      <td>48.000000</td>\n",
       "      <td>0.800000</td>\n",
       "      <td>170.000000</td>\n",
       "      <td>7.000000</td>\n",
       "      <td>...</td>\n",
       "      <td>947.250000</td>\n",
       "      <td>1633.000000</td>\n",
       "      <td>3064.500000</td>\n",
       "      <td>16.000000</td>\n",
       "      <td>9.000000</td>\n",
       "      <td>16.000000</td>\n",
       "      <td>1.000000</td>\n",
       "      <td>1.000000</td>\n",
       "      <td>1.000000</td>\n",
       "      <td>2.250000</td>\n",
       "    </tr>\n",
       "    <tr>\n",
       "      <th>max</th>\n",
       "      <td>1998.000000</td>\n",
       "      <td>1.0000</td>\n",
       "      <td>3.000000</td>\n",
       "      <td>1.000000</td>\n",
       "      <td>19.000000</td>\n",
       "      <td>1.000000</td>\n",
       "      <td>64.000000</td>\n",
       "      <td>1.000000</td>\n",
       "      <td>200.000000</td>\n",
       "      <td>8.000000</td>\n",
       "      <td>...</td>\n",
       "      <td>1960.000000</td>\n",
       "      <td>1998.000000</td>\n",
       "      <td>3998.000000</td>\n",
       "      <td>19.000000</td>\n",
       "      <td>18.000000</td>\n",
       "      <td>20.000000</td>\n",
       "      <td>1.000000</td>\n",
       "      <td>1.000000</td>\n",
       "      <td>1.000000</td>\n",
       "      <td>3.000000</td>\n",
       "    </tr>\n",
       "  </tbody>\n",
       "</table>\n",
       "<p>8 rows × 21 columns</p>\n",
       "</div>"
      ],
      "text/plain": [
       "       battery_power       blue  clock_speed     dual_sim           fc  \\\n",
       "count    2000.000000  2000.0000  2000.000000  2000.000000  2000.000000   \n",
       "mean     1238.518500     0.4950     1.522250     0.509500     4.309500   \n",
       "std       439.418206     0.5001     0.816004     0.500035     4.341444   \n",
       "min       501.000000     0.0000     0.500000     0.000000     0.000000   \n",
       "25%       851.750000     0.0000     0.700000     0.000000     1.000000   \n",
       "50%      1226.000000     0.0000     1.500000     1.000000     3.000000   \n",
       "75%      1615.250000     1.0000     2.200000     1.000000     7.000000   \n",
       "max      1998.000000     1.0000     3.000000     1.000000    19.000000   \n",
       "\n",
       "            four_g   int_memory        m_dep    mobile_wt      n_cores  ...  \\\n",
       "count  2000.000000  2000.000000  2000.000000  2000.000000  2000.000000  ...   \n",
       "mean      0.521500    32.046500     0.501750   140.249000     4.520500  ...   \n",
       "std       0.499662    18.145715     0.288416    35.399655     2.287837  ...   \n",
       "min       0.000000     2.000000     0.100000    80.000000     1.000000  ...   \n",
       "25%       0.000000    16.000000     0.200000   109.000000     3.000000  ...   \n",
       "50%       1.000000    32.000000     0.500000   141.000000     4.000000  ...   \n",
       "75%       1.000000    48.000000     0.800000   170.000000     7.000000  ...   \n",
       "max       1.000000    64.000000     1.000000   200.000000     8.000000  ...   \n",
       "\n",
       "         px_height     px_width          ram         sc_h         sc_w  \\\n",
       "count  2000.000000  2000.000000  2000.000000  2000.000000  2000.000000   \n",
       "mean    645.108000  1251.515500  2124.213000    12.306500     5.767000   \n",
       "std     443.780811   432.199447  1084.732044     4.213245     4.356398   \n",
       "min       0.000000   500.000000   256.000000     5.000000     0.000000   \n",
       "25%     282.750000   874.750000  1207.500000     9.000000     2.000000   \n",
       "50%     564.000000  1247.000000  2146.500000    12.000000     5.000000   \n",
       "75%     947.250000  1633.000000  3064.500000    16.000000     9.000000   \n",
       "max    1960.000000  1998.000000  3998.000000    19.000000    18.000000   \n",
       "\n",
       "         talk_time      three_g  touch_screen         wifi  price_range  \n",
       "count  2000.000000  2000.000000   2000.000000  2000.000000  2000.000000  \n",
       "mean     11.011000     0.761500      0.503000     0.507000     1.500000  \n",
       "std       5.463955     0.426273      0.500116     0.500076     1.118314  \n",
       "min       2.000000     0.000000      0.000000     0.000000     0.000000  \n",
       "25%       6.000000     1.000000      0.000000     0.000000     0.750000  \n",
       "50%      11.000000     1.000000      1.000000     1.000000     1.500000  \n",
       "75%      16.000000     1.000000      1.000000     1.000000     2.250000  \n",
       "max      20.000000     1.000000      1.000000     1.000000     3.000000  \n",
       "\n",
       "[8 rows x 21 columns]"
      ]
     },
     "execution_count": 709,
     "metadata": {},
     "output_type": "execute_result"
    }
   ],
   "source": [
    "#Since there are no nulls\n",
    "#Data preprocessing\n",
    "dataset.describe()"
   ]
  },
  {
   "cell_type": "code",
   "execution_count": 710,
   "id": "1f801806",
   "metadata": {},
   "outputs": [],
   "source": [
    "#Divide attibutes to input features and target class\n",
    "y = dataset['price_range']\n",
    "x = dataset.drop('price_range', axis = 1)"
   ]
  },
  {
   "cell_type": "code",
   "execution_count": 711,
   "id": "42a69a79",
   "metadata": {},
   "outputs": [],
   "source": [
    "#Split dataset into 'training' and 'validation' datasets\n",
    "x_trainingSet, x_validationSet, y_trainingSet, y_validationSet = train_test_split(x, y, test_size = 0.2, random_state = 103, stratify = y)"
   ]
  },
  {
   "cell_type": "code",
   "execution_count": 712,
   "id": "0bd0bd4e",
   "metadata": {},
   "outputs": [
    {
     "name": "stdout",
     "output_type": "stream",
     "text": [
      "(1600, 20)\n",
      "(400, 20)\n"
     ]
    }
   ],
   "source": [
    "print(x_trainingSet.shape)\n",
    "print(x_validationSet.shape)"
   ]
  },
  {
   "cell_type": "code",
   "execution_count": 713,
   "id": "94c34407",
   "metadata": {},
   "outputs": [
    {
     "data": {
      "text/html": [
       "<style>#sk-container-id-75 {color: black;background-color: white;}#sk-container-id-75 pre{padding: 0;}#sk-container-id-75 div.sk-toggleable {background-color: white;}#sk-container-id-75 label.sk-toggleable__label {cursor: pointer;display: block;width: 100%;margin-bottom: 0;padding: 0.3em;box-sizing: border-box;text-align: center;}#sk-container-id-75 label.sk-toggleable__label-arrow:before {content: \"▸\";float: left;margin-right: 0.25em;color: #696969;}#sk-container-id-75 label.sk-toggleable__label-arrow:hover:before {color: black;}#sk-container-id-75 div.sk-estimator:hover label.sk-toggleable__label-arrow:before {color: black;}#sk-container-id-75 div.sk-toggleable__content {max-height: 0;max-width: 0;overflow: hidden;text-align: left;background-color: #f0f8ff;}#sk-container-id-75 div.sk-toggleable__content pre {margin: 0.2em;color: black;border-radius: 0.25em;background-color: #f0f8ff;}#sk-container-id-75 input.sk-toggleable__control:checked~div.sk-toggleable__content {max-height: 200px;max-width: 100%;overflow: auto;}#sk-container-id-75 input.sk-toggleable__control:checked~label.sk-toggleable__label-arrow:before {content: \"▾\";}#sk-container-id-75 div.sk-estimator input.sk-toggleable__control:checked~label.sk-toggleable__label {background-color: #d4ebff;}#sk-container-id-75 div.sk-label input.sk-toggleable__control:checked~label.sk-toggleable__label {background-color: #d4ebff;}#sk-container-id-75 input.sk-hidden--visually {border: 0;clip: rect(1px 1px 1px 1px);clip: rect(1px, 1px, 1px, 1px);height: 1px;margin: -1px;overflow: hidden;padding: 0;position: absolute;width: 1px;}#sk-container-id-75 div.sk-estimator {font-family: monospace;background-color: #f0f8ff;border: 1px dotted black;border-radius: 0.25em;box-sizing: border-box;margin-bottom: 0.5em;}#sk-container-id-75 div.sk-estimator:hover {background-color: #d4ebff;}#sk-container-id-75 div.sk-parallel-item::after {content: \"\";width: 100%;border-bottom: 1px solid gray;flex-grow: 1;}#sk-container-id-75 div.sk-label:hover label.sk-toggleable__label {background-color: #d4ebff;}#sk-container-id-75 div.sk-serial::before {content: \"\";position: absolute;border-left: 1px solid gray;box-sizing: border-box;top: 0;bottom: 0;left: 50%;z-index: 0;}#sk-container-id-75 div.sk-serial {display: flex;flex-direction: column;align-items: center;background-color: white;padding-right: 0.2em;padding-left: 0.2em;position: relative;}#sk-container-id-75 div.sk-item {position: relative;z-index: 1;}#sk-container-id-75 div.sk-parallel {display: flex;align-items: stretch;justify-content: center;background-color: white;position: relative;}#sk-container-id-75 div.sk-item::before, #sk-container-id-75 div.sk-parallel-item::before {content: \"\";position: absolute;border-left: 1px solid gray;box-sizing: border-box;top: 0;bottom: 0;left: 50%;z-index: -1;}#sk-container-id-75 div.sk-parallel-item {display: flex;flex-direction: column;z-index: 1;position: relative;background-color: white;}#sk-container-id-75 div.sk-parallel-item:first-child::after {align-self: flex-end;width: 50%;}#sk-container-id-75 div.sk-parallel-item:last-child::after {align-self: flex-start;width: 50%;}#sk-container-id-75 div.sk-parallel-item:only-child::after {width: 0;}#sk-container-id-75 div.sk-dashed-wrapped {border: 1px dashed gray;margin: 0 0.4em 0.5em 0.4em;box-sizing: border-box;padding-bottom: 0.4em;background-color: white;}#sk-container-id-75 div.sk-label label {font-family: monospace;font-weight: bold;display: inline-block;line-height: 1.2em;}#sk-container-id-75 div.sk-label-container {text-align: center;}#sk-container-id-75 div.sk-container {/* jupyter's `normalize.less` sets `[hidden] { display: none; }` but bootstrap.min.css set `[hidden] { display: none !important; }` so we also need the `!important` here to be able to override the default hidden behavior on the sphinx rendered scikit-learn.org. See: https://github.com/scikit-learn/scikit-learn/issues/21755 */display: inline-block !important;position: relative;}#sk-container-id-75 div.sk-text-repr-fallback {display: none;}</style><div id=\"sk-container-id-75\" class=\"sk-top-container\"><div class=\"sk-text-repr-fallback\"><pre>KNeighborsClassifier(n_neighbors=3)</pre><b>In a Jupyter environment, please rerun this cell to show the HTML representation or trust the notebook. <br />On GitHub, the HTML representation is unable to render, please try loading this page with nbviewer.org.</b></div><div class=\"sk-container\" hidden><div class=\"sk-item\"><div class=\"sk-estimator sk-toggleable\"><input class=\"sk-toggleable__control sk-hidden--visually\" id=\"sk-estimator-id-75\" type=\"checkbox\" checked><label for=\"sk-estimator-id-75\" class=\"sk-toggleable__label sk-toggleable__label-arrow\">KNeighborsClassifier</label><div class=\"sk-toggleable__content\"><pre>KNeighborsClassifier(n_neighbors=3)</pre></div></div></div></div></div>"
      ],
      "text/plain": [
       "KNeighborsClassifier(n_neighbors=3)"
      ]
     },
     "execution_count": 713,
     "metadata": {},
     "output_type": "execute_result"
    }
   ],
   "source": [
    "#Create KNN classifier and Fit the classifier to the data\n",
    "knn_model = KNeighborsClassifier(n_neighbors = 3)  \n",
    "knn_model.fit(x_trainingSet, y_trainingSet)"
   ]
  },
  {
   "cell_type": "code",
   "execution_count": 714,
   "id": "19bebd86",
   "metadata": {},
   "outputs": [],
   "source": [
    "#Predict targets of validation set \n",
    "y_knn_predict = knn_model.predict(x_validationSet) "
   ]
  },
  {
   "cell_type": "code",
   "execution_count": 715,
   "id": "125e87f4",
   "metadata": {},
   "outputs": [
    {
     "name": "stdout",
     "output_type": "stream",
     "text": [
      "[[95  5  0  0]\n",
      " [ 3 94  3  0]\n",
      " [ 0  4 92  4]\n",
      " [ 0  0  7 93]]\n"
     ]
    }
   ],
   "source": [
    "#Display Confusion Matrix\n",
    "print(metrics.confusion_matrix(y_validationSet, y_knn_predict))"
   ]
  },
  {
   "cell_type": "code",
   "execution_count": 716,
   "id": "7ce4ec84",
   "metadata": {},
   "outputs": [
    {
     "name": "stdout",
     "output_type": "stream",
     "text": [
      "0.935\n"
     ]
    }
   ],
   "source": [
    "#Check accuracy of model\n",
    "print(accuracy_score(y_validationSet, y_knn_predict)) "
   ]
  },
  {
   "cell_type": "code",
   "execution_count": 717,
   "id": "b892bb6b",
   "metadata": {},
   "outputs": [
    {
     "data": {
      "text/plain": [
       "{'n_neighbors': 7}"
      ]
     },
     "execution_count": 717,
     "metadata": {},
     "output_type": "execute_result"
    }
   ],
   "source": [
    "#Find best k value\n",
    "from sklearn.model_selection import GridSearchCV\n",
    "knn = KNeighborsClassifier()\n",
    "parameters = {'n_neighbors':np.arange(1,30)}\n",
    "\n",
    "grid_search_knn = GridSearchCV(knn, parameters, cv = 5)\n",
    "grid_search_knn.fit(x_trainingSet, y_trainingSet)\n",
    "grid_search_knn.best_params_"
   ]
  },
  {
   "cell_type": "code",
   "execution_count": 718,
   "id": "b509422d",
   "metadata": {},
   "outputs": [
    {
     "data": {
      "text/html": [
       "<style>#sk-container-id-76 {color: black;background-color: white;}#sk-container-id-76 pre{padding: 0;}#sk-container-id-76 div.sk-toggleable {background-color: white;}#sk-container-id-76 label.sk-toggleable__label {cursor: pointer;display: block;width: 100%;margin-bottom: 0;padding: 0.3em;box-sizing: border-box;text-align: center;}#sk-container-id-76 label.sk-toggleable__label-arrow:before {content: \"▸\";float: left;margin-right: 0.25em;color: #696969;}#sk-container-id-76 label.sk-toggleable__label-arrow:hover:before {color: black;}#sk-container-id-76 div.sk-estimator:hover label.sk-toggleable__label-arrow:before {color: black;}#sk-container-id-76 div.sk-toggleable__content {max-height: 0;max-width: 0;overflow: hidden;text-align: left;background-color: #f0f8ff;}#sk-container-id-76 div.sk-toggleable__content pre {margin: 0.2em;color: black;border-radius: 0.25em;background-color: #f0f8ff;}#sk-container-id-76 input.sk-toggleable__control:checked~div.sk-toggleable__content {max-height: 200px;max-width: 100%;overflow: auto;}#sk-container-id-76 input.sk-toggleable__control:checked~label.sk-toggleable__label-arrow:before {content: \"▾\";}#sk-container-id-76 div.sk-estimator input.sk-toggleable__control:checked~label.sk-toggleable__label {background-color: #d4ebff;}#sk-container-id-76 div.sk-label input.sk-toggleable__control:checked~label.sk-toggleable__label {background-color: #d4ebff;}#sk-container-id-76 input.sk-hidden--visually {border: 0;clip: rect(1px 1px 1px 1px);clip: rect(1px, 1px, 1px, 1px);height: 1px;margin: -1px;overflow: hidden;padding: 0;position: absolute;width: 1px;}#sk-container-id-76 div.sk-estimator {font-family: monospace;background-color: #f0f8ff;border: 1px dotted black;border-radius: 0.25em;box-sizing: border-box;margin-bottom: 0.5em;}#sk-container-id-76 div.sk-estimator:hover {background-color: #d4ebff;}#sk-container-id-76 div.sk-parallel-item::after {content: \"\";width: 100%;border-bottom: 1px solid gray;flex-grow: 1;}#sk-container-id-76 div.sk-label:hover label.sk-toggleable__label {background-color: #d4ebff;}#sk-container-id-76 div.sk-serial::before {content: \"\";position: absolute;border-left: 1px solid gray;box-sizing: border-box;top: 0;bottom: 0;left: 50%;z-index: 0;}#sk-container-id-76 div.sk-serial {display: flex;flex-direction: column;align-items: center;background-color: white;padding-right: 0.2em;padding-left: 0.2em;position: relative;}#sk-container-id-76 div.sk-item {position: relative;z-index: 1;}#sk-container-id-76 div.sk-parallel {display: flex;align-items: stretch;justify-content: center;background-color: white;position: relative;}#sk-container-id-76 div.sk-item::before, #sk-container-id-76 div.sk-parallel-item::before {content: \"\";position: absolute;border-left: 1px solid gray;box-sizing: border-box;top: 0;bottom: 0;left: 50%;z-index: -1;}#sk-container-id-76 div.sk-parallel-item {display: flex;flex-direction: column;z-index: 1;position: relative;background-color: white;}#sk-container-id-76 div.sk-parallel-item:first-child::after {align-self: flex-end;width: 50%;}#sk-container-id-76 div.sk-parallel-item:last-child::after {align-self: flex-start;width: 50%;}#sk-container-id-76 div.sk-parallel-item:only-child::after {width: 0;}#sk-container-id-76 div.sk-dashed-wrapped {border: 1px dashed gray;margin: 0 0.4em 0.5em 0.4em;box-sizing: border-box;padding-bottom: 0.4em;background-color: white;}#sk-container-id-76 div.sk-label label {font-family: monospace;font-weight: bold;display: inline-block;line-height: 1.2em;}#sk-container-id-76 div.sk-label-container {text-align: center;}#sk-container-id-76 div.sk-container {/* jupyter's `normalize.less` sets `[hidden] { display: none; }` but bootstrap.min.css set `[hidden] { display: none !important; }` so we also need the `!important` here to be able to override the default hidden behavior on the sphinx rendered scikit-learn.org. See: https://github.com/scikit-learn/scikit-learn/issues/21755 */display: inline-block !important;position: relative;}#sk-container-id-76 div.sk-text-repr-fallback {display: none;}</style><div id=\"sk-container-id-76\" class=\"sk-top-container\"><div class=\"sk-text-repr-fallback\"><pre>KNeighborsClassifier(n_neighbors=7)</pre><b>In a Jupyter environment, please rerun this cell to show the HTML representation or trust the notebook. <br />On GitHub, the HTML representation is unable to render, please try loading this page with nbviewer.org.</b></div><div class=\"sk-container\" hidden><div class=\"sk-item\"><div class=\"sk-estimator sk-toggleable\"><input class=\"sk-toggleable__control sk-hidden--visually\" id=\"sk-estimator-id-76\" type=\"checkbox\" checked><label for=\"sk-estimator-id-76\" class=\"sk-toggleable__label sk-toggleable__label-arrow\">KNeighborsClassifier</label><div class=\"sk-toggleable__content\"><pre>KNeighborsClassifier(n_neighbors=7)</pre></div></div></div></div></div>"
      ],
      "text/plain": [
       "KNeighborsClassifier(n_neighbors=7)"
      ]
     },
     "execution_count": 718,
     "metadata": {},
     "output_type": "execute_result"
    }
   ],
   "source": [
    "#neighbors k = 7\n",
    "knn_model = KNeighborsClassifier(n_neighbors = 7)  \n",
    "knn_model.fit(x_trainingSet, y_trainingSet)  "
   ]
  },
  {
   "cell_type": "code",
   "execution_count": 719,
   "id": "502250e6",
   "metadata": {},
   "outputs": [],
   "source": [
    "#Predict targets of validation set \n",
    "y_knn_predict = knn_model.predict(x_validationSet) "
   ]
  },
  {
   "cell_type": "code",
   "execution_count": 720,
   "id": "f1365b82",
   "metadata": {},
   "outputs": [
    {
     "name": "stdout",
     "output_type": "stream",
     "text": [
      "[[97  3  0  0]\n",
      " [ 2 95  3  0]\n",
      " [ 0  4 91  5]\n",
      " [ 0  0  7 93]]\n"
     ]
    }
   ],
   "source": [
    "#Display Confusion Matrix\n",
    "print(metrics.confusion_matrix(y_validationSet, y_knn_predict))"
   ]
  },
  {
   "cell_type": "code",
   "execution_count": 721,
   "id": "a59d0c89",
   "metadata": {},
   "outputs": [
    {
     "name": "stdout",
     "output_type": "stream",
     "text": [
      "0.94\n"
     ]
    }
   ],
   "source": [
    "#Check accuracy of model\n",
    "print(accuracy_score(y_validationSet, y_knn_predict)) "
   ]
  },
  {
   "cell_type": "code",
   "execution_count": null,
   "id": "d5c0fa00",
   "metadata": {},
   "outputs": [],
   "source": []
  },
  {
   "cell_type": "markdown",
   "id": "f660063d",
   "metadata": {},
   "source": [
    "Multi-layer neural network model"
   ]
  },
  {
   "cell_type": "code",
   "execution_count": 757,
   "id": "561160d2",
   "metadata": {},
   "outputs": [],
   "source": [
    "##read csv file\n",
    "df = pd.read_csv('Mobile_Dataset.csv')"
   ]
  },
  {
   "cell_type": "code",
   "execution_count": 758,
   "id": "cfa1f73c",
   "metadata": {},
   "outputs": [],
   "source": [
    "#Convert data into arrays\n",
    "dset = df.values"
   ]
  },
  {
   "cell_type": "code",
   "execution_count": 759,
   "id": "87c112ae",
   "metadata": {},
   "outputs": [],
   "source": [
    "#Assign first 20 columns as input features\n",
    "X = dset[:,0:20]"
   ]
  },
  {
   "cell_type": "code",
   "execution_count": 760,
   "id": "f253d440",
   "metadata": {},
   "outputs": [],
   "source": [
    "#Assign last column as target\n",
    "Y = dset[:,20]"
   ]
  },
  {
   "cell_type": "code",
   "execution_count": 761,
   "id": "dec8151e",
   "metadata": {},
   "outputs": [],
   "source": [
    "#Scales the dataset so that all the input features lie between 0 and 1 inclusive\n",
    "min_max_scaler = preprocessing.MinMaxScaler()\n",
    "X_scale = min_max_scaler.fit_transform(X)"
   ]
  },
  {
   "cell_type": "code",
   "execution_count": 762,
   "id": "35a25ef5",
   "metadata": {},
   "outputs": [
    {
     "data": {
      "text/plain": [
       "array([[0.22778891, 0.        , 0.68      , ..., 0.        , 0.        ,\n",
       "        1.        ],\n",
       "       [0.34736139, 1.        , 0.        , ..., 1.        , 1.        ,\n",
       "        0.        ],\n",
       "       [0.04141617, 1.        , 0.        , ..., 1.        , 1.        ,\n",
       "        0.        ],\n",
       "       ...,\n",
       "       [0.94188377, 0.        , 0.16      , ..., 1.        , 1.        ,\n",
       "        0.        ],\n",
       "       [0.6753507 , 0.        , 0.16      , ..., 1.        , 1.        ,\n",
       "        1.        ],\n",
       "       [0.00601202, 1.        , 0.6       , ..., 1.        , 1.        ,\n",
       "        1.        ]])"
      ]
     },
     "execution_count": 762,
     "metadata": {},
     "output_type": "execute_result"
    }
   ],
   "source": [
    "#Display array ‘X_scale’\n",
    "X_scale"
   ]
  },
  {
   "cell_type": "code",
   "execution_count": 763,
   "id": "7d30056a",
   "metadata": {},
   "outputs": [],
   "source": [
    "Y = df['price_range']"
   ]
  },
  {
   "cell_type": "code",
   "execution_count": 764,
   "id": "88af847e",
   "metadata": {},
   "outputs": [],
   "source": [
    "#Split dataset into 'training' and 'validation_and_test' datasets\n",
    "X_training, X_validation_and_test, Y_training, Y_validation_and_test = train_test_split(X_scale, Y, test_size = 0.3 , random_state = 55)"
   ]
  },
  {
   "cell_type": "code",
   "execution_count": 765,
   "id": "5d57c26c",
   "metadata": {},
   "outputs": [
    {
     "data": {
      "text/plain": [
       "array([[0.1008684 , 1.        , 0.76      , ..., 1.        , 0.        ,\n",
       "        0.        ],\n",
       "       [0.21242485, 0.        , 0.04      , ..., 1.        , 0.        ,\n",
       "        1.        ],\n",
       "       [0.55377422, 0.        , 0.        , ..., 1.        , 0.        ,\n",
       "        1.        ],\n",
       "       ...,\n",
       "       [0.18303273, 1.        , 0.84      , ..., 1.        , 0.        ,\n",
       "        1.        ],\n",
       "       [0.6259185 , 0.        , 0.68      , ..., 1.        , 1.        ,\n",
       "        1.        ],\n",
       "       [0.35604542, 0.        , 0.84      , ..., 1.        , 0.        ,\n",
       "        0.        ]])"
      ]
     },
     "execution_count": 765,
     "metadata": {},
     "output_type": "execute_result"
    }
   ],
   "source": [
    "X_validation_and_test"
   ]
  },
  {
   "cell_type": "code",
   "execution_count": 766,
   "id": "308ddb6d",
   "metadata": {},
   "outputs": [],
   "source": [
    "#Split 'validation_and_test' dataset into 'validation' and 'test' datasets\n",
    "X_validation, X_test, Y_validation, Y_test = train_test_split(X_validation_and_test, Y_validation_and_test, test_size = 0.5)"
   ]
  },
  {
   "cell_type": "code",
   "execution_count": 767,
   "id": "9ae0b760",
   "metadata": {},
   "outputs": [
    {
     "name": "stdout",
     "output_type": "stream",
     "text": [
      "(1400, 20) (300, 20) (300, 20) (1400,) (300,) (300,)\n"
     ]
    }
   ],
   "source": [
    "print(X_training.shape, X_validation.shape, X_test.shape, Y_training.shape, Y_validation.shape, Y_test.shape)"
   ]
  },
  {
   "cell_type": "code",
   "execution_count": 768,
   "id": "2294d638",
   "metadata": {},
   "outputs": [],
   "source": [
    "#Describe the architecture to Keras\n",
    "#Import the necessary code from Keras\n",
    "from keras.models import Sequential\n",
    "from keras.layers import Dense\n",
    "from keras.losses import SparseCategoricalCrossentropy\n",
    "from keras.optimizers import Adam\n",
    "\n",
    "model = Sequential([\n",
    " Dense(32, activation = \"relu\", input_shape = (20,)),\n",
    " Dense(32,activation = 'relu'),\n",
    " Dense(4, activation = 'softmax')\n",
    "])\n",
    "#Configuring the model\n",
    "model.compile(\n",
    "   loss = SparseCategoricalCrossentropy(),\n",
    "   optimizer = Adam(),\n",
    "   metrics = \"accuracy\")"
   ]
  },
  {
   "cell_type": "code",
   "execution_count": 769,
   "id": "d26d584c",
   "metadata": {},
   "outputs": [
    {
     "name": "stdout",
     "output_type": "stream",
     "text": [
      "Epoch 1/100\n",
      "44/44 [==============================] - 2s 5ms/step - loss: 1.3695 - accuracy: 0.3129\n",
      "Epoch 2/100\n",
      "44/44 [==============================] - 0s 4ms/step - loss: 1.3087 - accuracy: 0.3964\n",
      "Epoch 3/100\n",
      "44/44 [==============================] - 0s 4ms/step - loss: 1.2170 - accuracy: 0.4671\n",
      "Epoch 4/100\n",
      "44/44 [==============================] - 0s 5ms/step - loss: 1.0828 - accuracy: 0.5686\n",
      "Epoch 5/100\n",
      "44/44 [==============================] - 0s 5ms/step - loss: 0.9397 - accuracy: 0.6443\n",
      "Epoch 6/100\n",
      "44/44 [==============================] - 0s 5ms/step - loss: 0.8146 - accuracy: 0.7107\n",
      "Epoch 7/100\n",
      "44/44 [==============================] - 0s 5ms/step - loss: 0.7208 - accuracy: 0.7721\n",
      "Epoch 8/100\n",
      "44/44 [==============================] - 0s 4ms/step - loss: 0.6426 - accuracy: 0.8057\n",
      "Epoch 9/100\n",
      "44/44 [==============================] - 0s 5ms/step - loss: 0.5786 - accuracy: 0.8257\n",
      "Epoch 10/100\n",
      "44/44 [==============================] - 0s 4ms/step - loss: 0.5222 - accuracy: 0.8443\n",
      "Epoch 11/100\n",
      "44/44 [==============================] - 0s 4ms/step - loss: 0.4752 - accuracy: 0.8593\n",
      "Epoch 12/100\n",
      "44/44 [==============================] - 0s 4ms/step - loss: 0.4337 - accuracy: 0.8771\n",
      "Epoch 13/100\n",
      "44/44 [==============================] - 0s 4ms/step - loss: 0.4030 - accuracy: 0.8821\n",
      "Epoch 14/100\n",
      "44/44 [==============================] - 0s 4ms/step - loss: 0.3687 - accuracy: 0.9036\n",
      "Epoch 15/100\n",
      "44/44 [==============================] - 0s 4ms/step - loss: 0.3471 - accuracy: 0.8993\n",
      "Epoch 16/100\n",
      "44/44 [==============================] - 0s 4ms/step - loss: 0.3224 - accuracy: 0.9121\n",
      "Epoch 17/100\n",
      "44/44 [==============================] - 0s 4ms/step - loss: 0.3045 - accuracy: 0.9071\n",
      "Epoch 18/100\n",
      "44/44 [==============================] - 0s 4ms/step - loss: 0.2814 - accuracy: 0.9307\n",
      "Epoch 19/100\n",
      "44/44 [==============================] - 0s 4ms/step - loss: 0.2685 - accuracy: 0.9243\n",
      "Epoch 20/100\n",
      "44/44 [==============================] - 0s 4ms/step - loss: 0.2529 - accuracy: 0.9343\n",
      "Epoch 21/100\n",
      "44/44 [==============================] - 0s 4ms/step - loss: 0.2406 - accuracy: 0.9286\n",
      "Epoch 22/100\n",
      "44/44 [==============================] - 0s 4ms/step - loss: 0.2315 - accuracy: 0.9400\n",
      "Epoch 23/100\n",
      "44/44 [==============================] - 0s 4ms/step - loss: 0.2191 - accuracy: 0.9364\n",
      "Epoch 24/100\n",
      "44/44 [==============================] - 0s 5ms/step - loss: 0.2208 - accuracy: 0.9336\n",
      "Epoch 25/100\n",
      "44/44 [==============================] - 0s 4ms/step - loss: 0.1998 - accuracy: 0.9471\n",
      "Epoch 26/100\n",
      "44/44 [==============================] - 0s 4ms/step - loss: 0.1954 - accuracy: 0.9450\n",
      "Epoch 27/100\n",
      "44/44 [==============================] - 0s 4ms/step - loss: 0.1873 - accuracy: 0.9514\n",
      "Epoch 28/100\n",
      "44/44 [==============================] - 0s 4ms/step - loss: 0.1795 - accuracy: 0.9557\n",
      "Epoch 29/100\n",
      "44/44 [==============================] - 0s 4ms/step - loss: 0.1730 - accuracy: 0.9529\n",
      "Epoch 30/100\n",
      "44/44 [==============================] - 0s 4ms/step - loss: 0.1744 - accuracy: 0.9450\n",
      "Epoch 31/100\n",
      "44/44 [==============================] - 0s 4ms/step - loss: 0.1681 - accuracy: 0.9543\n",
      "Epoch 32/100\n",
      "44/44 [==============================] - 0s 4ms/step - loss: 0.1603 - accuracy: 0.9529\n",
      "Epoch 33/100\n",
      "44/44 [==============================] - 0s 4ms/step - loss: 0.1574 - accuracy: 0.9550\n",
      "Epoch 34/100\n",
      "44/44 [==============================] - 0s 4ms/step - loss: 0.1585 - accuracy: 0.9529\n",
      "Epoch 35/100\n",
      "44/44 [==============================] - 0s 4ms/step - loss: 0.1534 - accuracy: 0.9514\n",
      "Epoch 36/100\n",
      "44/44 [==============================] - 0s 4ms/step - loss: 0.1456 - accuracy: 0.9621\n",
      "Epoch 37/100\n",
      "44/44 [==============================] - 0s 4ms/step - loss: 0.1457 - accuracy: 0.9493\n",
      "Epoch 38/100\n",
      "44/44 [==============================] - 0s 4ms/step - loss: 0.1353 - accuracy: 0.9621\n",
      "Epoch 39/100\n",
      "44/44 [==============================] - 0s 4ms/step - loss: 0.1308 - accuracy: 0.9686\n",
      "Epoch 40/100\n",
      "44/44 [==============================] - 0s 4ms/step - loss: 0.1301 - accuracy: 0.9621\n",
      "Epoch 41/100\n",
      "44/44 [==============================] - 0s 4ms/step - loss: 0.1315 - accuracy: 0.9607\n",
      "Epoch 42/100\n",
      "44/44 [==============================] - 0s 4ms/step - loss: 0.1311 - accuracy: 0.9586\n",
      "Epoch 43/100\n",
      "44/44 [==============================] - 0s 4ms/step - loss: 0.1304 - accuracy: 0.9586\n",
      "Epoch 44/100\n",
      "44/44 [==============================] - 0s 4ms/step - loss: 0.1241 - accuracy: 0.9607\n",
      "Epoch 45/100\n",
      "44/44 [==============================] - 0s 4ms/step - loss: 0.1210 - accuracy: 0.9643\n",
      "Epoch 46/100\n",
      "44/44 [==============================] - 0s 4ms/step - loss: 0.1138 - accuracy: 0.9679\n",
      "Epoch 47/100\n",
      "44/44 [==============================] - 0s 4ms/step - loss: 0.1143 - accuracy: 0.9729\n",
      "Epoch 48/100\n",
      "44/44 [==============================] - 0s 4ms/step - loss: 0.1122 - accuracy: 0.9693\n",
      "Epoch 49/100\n",
      "44/44 [==============================] - 0s 4ms/step - loss: 0.1111 - accuracy: 0.9671\n",
      "Epoch 50/100\n",
      "44/44 [==============================] - 0s 4ms/step - loss: 0.1051 - accuracy: 0.9736\n",
      "Epoch 51/100\n",
      "44/44 [==============================] - 0s 4ms/step - loss: 0.1038 - accuracy: 0.9786\n",
      "Epoch 52/100\n",
      "44/44 [==============================] - 0s 4ms/step - loss: 0.1101 - accuracy: 0.9643\n",
      "Epoch 53/100\n",
      "44/44 [==============================] - 0s 5ms/step - loss: 0.1006 - accuracy: 0.9743\n",
      "Epoch 54/100\n",
      "44/44 [==============================] - 0s 4ms/step - loss: 0.1035 - accuracy: 0.9721\n",
      "Epoch 55/100\n",
      "44/44 [==============================] - 0s 4ms/step - loss: 0.0955 - accuracy: 0.9764\n",
      "Epoch 56/100\n",
      "44/44 [==============================] - 0s 4ms/step - loss: 0.0949 - accuracy: 0.9779\n",
      "Epoch 57/100\n",
      "44/44 [==============================] - 0s 4ms/step - loss: 0.0929 - accuracy: 0.9807\n",
      "Epoch 58/100\n",
      "44/44 [==============================] - 0s 4ms/step - loss: 0.0943 - accuracy: 0.9771\n",
      "Epoch 59/100\n",
      "44/44 [==============================] - 0s 4ms/step - loss: 0.0925 - accuracy: 0.9764\n",
      "Epoch 60/100\n",
      "44/44 [==============================] - 0s 4ms/step - loss: 0.0882 - accuracy: 0.9836\n",
      "Epoch 61/100\n",
      "44/44 [==============================] - 0s 4ms/step - loss: 0.0878 - accuracy: 0.9793\n",
      "Epoch 62/100\n",
      "44/44 [==============================] - 0s 4ms/step - loss: 0.0855 - accuracy: 0.9814\n",
      "Epoch 63/100\n",
      "44/44 [==============================] - 0s 4ms/step - loss: 0.0852 - accuracy: 0.9807\n",
      "Epoch 64/100\n",
      "44/44 [==============================] - 0s 4ms/step - loss: 0.0832 - accuracy: 0.9829\n",
      "Epoch 65/100\n",
      "44/44 [==============================] - 0s 4ms/step - loss: 0.0923 - accuracy: 0.9700\n",
      "Epoch 66/100\n",
      "44/44 [==============================] - 0s 4ms/step - loss: 0.0850 - accuracy: 0.9750\n",
      "Epoch 67/100\n",
      "44/44 [==============================] - 0s 4ms/step - loss: 0.0849 - accuracy: 0.9786\n",
      "Epoch 68/100\n",
      "44/44 [==============================] - 0s 4ms/step - loss: 0.0810 - accuracy: 0.9779\n",
      "Epoch 69/100\n",
      "44/44 [==============================] - 0s 4ms/step - loss: 0.0816 - accuracy: 0.9743\n",
      "Epoch 70/100\n",
      "44/44 [==============================] - 0s 4ms/step - loss: 0.0782 - accuracy: 0.9829\n",
      "Epoch 71/100\n",
      "44/44 [==============================] - 0s 4ms/step - loss: 0.0782 - accuracy: 0.9829\n",
      "Epoch 72/100\n",
      "44/44 [==============================] - 0s 4ms/step - loss: 0.0805 - accuracy: 0.9793\n",
      "Epoch 73/100\n",
      "44/44 [==============================] - 0s 4ms/step - loss: 0.0817 - accuracy: 0.9807\n",
      "Epoch 74/100\n",
      "44/44 [==============================] - 0s 4ms/step - loss: 0.0734 - accuracy: 0.9836\n",
      "Epoch 75/100\n",
      "44/44 [==============================] - 0s 4ms/step - loss: 0.0742 - accuracy: 0.9836\n",
      "Epoch 76/100\n",
      "44/44 [==============================] - 0s 5ms/step - loss: 0.0709 - accuracy: 0.9843\n",
      "Epoch 77/100\n",
      "44/44 [==============================] - 0s 4ms/step - loss: 0.0692 - accuracy: 0.9843\n",
      "Epoch 78/100\n",
      "44/44 [==============================] - 0s 4ms/step - loss: 0.0724 - accuracy: 0.9857\n",
      "Epoch 79/100\n",
      "44/44 [==============================] - 0s 4ms/step - loss: 0.0709 - accuracy: 0.9850\n",
      "Epoch 80/100\n",
      "44/44 [==============================] - 0s 4ms/step - loss: 0.0684 - accuracy: 0.9864\n",
      "Epoch 81/100\n",
      "44/44 [==============================] - 0s 4ms/step - loss: 0.0663 - accuracy: 0.9871\n",
      "Epoch 82/100\n",
      "44/44 [==============================] - 0s 4ms/step - loss: 0.0700 - accuracy: 0.9836\n",
      "Epoch 83/100\n",
      "44/44 [==============================] - 0s 4ms/step - loss: 0.0630 - accuracy: 0.9886\n",
      "Epoch 84/100\n",
      "44/44 [==============================] - 0s 4ms/step - loss: 0.0627 - accuracy: 0.9871\n",
      "Epoch 85/100\n",
      "44/44 [==============================] - 0s 4ms/step - loss: 0.0651 - accuracy: 0.9850\n",
      "Epoch 86/100\n",
      "44/44 [==============================] - 0s 4ms/step - loss: 0.0711 - accuracy: 0.9807\n",
      "Epoch 87/100\n",
      "44/44 [==============================] - 0s 4ms/step - loss: 0.0605 - accuracy: 0.9907\n",
      "Epoch 88/100\n",
      "44/44 [==============================] - 0s 4ms/step - loss: 0.0634 - accuracy: 0.9857\n",
      "Epoch 89/100\n",
      "44/44 [==============================] - 0s 4ms/step - loss: 0.0611 - accuracy: 0.9886\n",
      "Epoch 90/100\n",
      "44/44 [==============================] - 0s 4ms/step - loss: 0.0622 - accuracy: 0.9871\n",
      "Epoch 91/100\n",
      "44/44 [==============================] - 0s 4ms/step - loss: 0.0616 - accuracy: 0.9843\n",
      "Epoch 92/100\n",
      "44/44 [==============================] - 0s 4ms/step - loss: 0.0585 - accuracy: 0.9914\n",
      "Epoch 93/100\n",
      "44/44 [==============================] - 0s 4ms/step - loss: 0.0599 - accuracy: 0.9871\n",
      "Epoch 94/100\n",
      "44/44 [==============================] - 0s 4ms/step - loss: 0.0624 - accuracy: 0.9850\n",
      "Epoch 95/100\n",
      "44/44 [==============================] - 0s 4ms/step - loss: 0.0569 - accuracy: 0.9871\n",
      "Epoch 96/100\n",
      "44/44 [==============================] - 0s 4ms/step - loss: 0.0536 - accuracy: 0.9921\n",
      "Epoch 97/100\n",
      "44/44 [==============================] - 0s 4ms/step - loss: 0.0548 - accuracy: 0.9921\n",
      "Epoch 98/100\n",
      "44/44 [==============================] - 0s 4ms/step - loss: 0.0527 - accuracy: 0.9893\n",
      "Epoch 99/100\n",
      "44/44 [==============================] - 0s 4ms/step - loss: 0.0534 - accuracy: 0.9907\n",
      "Epoch 100/100\n",
      "44/44 [==============================] - 0s 4ms/step - loss: 0.0574 - accuracy: 0.9843\n"
     ]
    },
    {
     "data": {
      "text/plain": [
       "<keras.callbacks.History at 0x2599f29dd00>"
      ]
     },
     "execution_count": 769,
     "metadata": {},
     "output_type": "execute_result"
    }
   ],
   "source": [
    "#Train for 100 epoches\n",
    "model.fit(X_training,Y_training,epochs = 100)"
   ]
  },
  {
   "cell_type": "code",
   "execution_count": 770,
   "id": "56aa71b9",
   "metadata": {},
   "outputs": [
    {
     "name": "stdout",
     "output_type": "stream",
     "text": [
      "10/10 [==============================] - 0s 5ms/step - loss: 0.1562 - accuracy: 0.9300\n"
     ]
    },
    {
     "data": {
      "text/plain": [
       "0.9300000071525574"
      ]
     },
     "execution_count": 770,
     "metadata": {},
     "output_type": "execute_result"
    }
   ],
   "source": [
    "#Find the accuracy on our test set\n",
    "model.evaluate(X_test, Y_test)[1]"
   ]
  },
  {
   "cell_type": "code",
   "execution_count": 771,
   "id": "5b5df00d",
   "metadata": {},
   "outputs": [],
   "source": [
    "#Creates an array of predictions from a matrix of percentages of classifications\n",
    "def predictionrelease(predictions):\n",
    "    arr = []\n",
    "    for i in range(0,len(predictions)):\n",
    "        answer = np.argmax(predictions[i])\n",
    "        arr.append(answer)\n",
    "    len(arr)\n",
    "    return arr"
   ]
  },
  {
   "cell_type": "code",
   "execution_count": 772,
   "id": "1a33b10b",
   "metadata": {},
   "outputs": [
    {
     "name": "stdout",
     "output_type": "stream",
     "text": [
      "10/10 [==============================] - 0s 4ms/step\n"
     ]
    }
   ],
   "source": [
    "#Testing cross validation sets\n",
    "predictions_test = model.predict(X_test)      \n",
    "test_predictions = predictionrelease(predictions_test)"
   ]
  },
  {
   "cell_type": "code",
   "execution_count": 773,
   "id": "129f9ab5",
   "metadata": {},
   "outputs": [
    {
     "name": "stdout",
     "output_type": "stream",
     "text": [
      "              precision    recall  f1-score   support\n",
      "\n",
      "           0       0.91      0.98      0.95        62\n",
      "           1       0.96      0.90      0.93        81\n",
      "           2       0.88      0.95      0.91        74\n",
      "           3       0.97      0.90      0.94        83\n",
      "\n",
      "    accuracy                           0.93       300\n",
      "   macro avg       0.93      0.93      0.93       300\n",
      "weighted avg       0.93      0.93      0.93       300\n",
      "\n"
     ]
    }
   ],
   "source": [
    "#Confusion Matrix\n",
    "from sklearn.metrics import classification_report,confusion_matrix\n",
    "print(classification_report(Y_test,test_predictions)) "
   ]
  },
  {
   "cell_type": "code",
   "execution_count": null,
   "id": "34d14b56",
   "metadata": {},
   "outputs": [],
   "source": []
  },
  {
   "cell_type": "markdown",
   "id": "69c26fdc",
   "metadata": {},
   "source": [
    "Comparing the accuracies of designed machine learning models"
   ]
  },
  {
   "cell_type": "code",
   "execution_count": 774,
   "id": "3ef000ff",
   "metadata": {},
   "outputs": [],
   "source": [
    "import matplotlib.pyplot as plt"
   ]
  },
  {
   "cell_type": "code",
   "execution_count": 775,
   "id": "51b7f1c0",
   "metadata": {},
   "outputs": [
    {
     "data": {
      "image/png": "[encoded data removed]",
      "text/plain": [
       "<Figure size 640x480 with 1 Axes>"
      ]
     },
     "metadata": {},
     "output_type": "display_data"
    }
   ],
   "source": [
    "models_name = ['KNN model' , 'MLN model'] \n",
    "accuracy = [0.94, 0.930]\n",
    "\n",
    "plt.bar(models_name, accuracy, color = ['blue', 'green']) \n",
    "plt.ylabel(\"Accuracy\") \n",
    "plt.title(\"Comparing the accuracies of designed machine learning models\") \n",
    "plt.show()"
   ]
  },
  {
   "cell_type": "code",
   "execution_count": null,
   "id": "823d0a42",
   "metadata": {},
   "outputs": [],
   "source": []
  }
 ],
 "metadata": {
  "kernelspec": {
   "display_name": "Python 3 (ipykernel)",
   "language": "python",
   "name": "python3"
  },
  "language_info": {
   "codemirror_mode": {
    "name": "ipython",
    "version": 3
   },
   "file_extension": ".py",
   "mimetype": "text/x-python",
   "name": "python",
   "nbconvert_exporter": "python",
   "pygments_lexer": "ipython3",
   "version": "3.9.15"
  }
 },
 "nbformat": 4,
 "nbformat_minor": 5
}
